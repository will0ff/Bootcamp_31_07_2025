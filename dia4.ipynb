{
 "cells": [
  {
   "cell_type": "code",
   "execution_count": 23,
   "id": "3b66edf2",
   "metadata": {},
   "outputs": [
    {
     "name": "stdout",
     "output_type": "stream",
     "text": [
      "Me llamo Poncho y soy un gato de color naranja\n",
      "Me llamo Molly y soy una perra de color dorado\n",
      "Me llamo Hamtaro y soy un hamster de color blanco\n",
      "Me llamo Kratos y soy un loro de color verde con rojo y amarillo\n"
     ]
    }
   ],
   "source": [
    "class Animales:\n",
    "    especies = 4\n",
    "\n",
    "    def __init__(self, nombre, color):\n",
    "        self.nombre = nombre\n",
    "        self.color = color\n",
    "\n",
    "gato1 = Animales('Poncho', 'naranja')\n",
    "perro1 = Animales('Molly' , 'dorado')\n",
    "hamster1 = Animales('Hamtaro' , 'blanco')\n",
    "loro1 = Animales('Kratos', 'verde con rojo y amarillo')\n",
    "\n",
    "\n",
    "print(f'Me llamo {gato1.nombre} y soy un gato de color {gato1.color}')\n",
    "print(f'Me llamo {perro1.nombre} y soy una perra de color {perro1.color}')\n",
    "print(f'Me llamo {hamster1.nombre} y soy un hamster de color {hamster1.color}')\n",
    "print(f'Me llamo {loro1.nombre} y soy un loro de color {loro1.color}')\n"
   ]
  },
  {
   "cell_type": "code",
   "execution_count": 22,
   "id": "882d5a4e",
   "metadata": {},
   "outputs": [
    {
     "name": "stdout",
     "output_type": "stream",
     "text": [
      "Me llamo Poncho y soy un gato de color naranja\n",
      "Me llamo Molly y soy una perra de color dorado\n",
      "Me llamo Hamtaro y soy un hamster de color blanco\n",
      "Me llamo Kratos y soy un loro de color verde con rojo y amarillo\n"
     ]
    }
   ],
   "source": [
    "class Animales:\n",
    "    especies = 4\n",
    "\n",
    "    def __init__(self, nombre, especie, color):\n",
    "        self.nombre = nombre\n",
    "        self.especie = especie\n",
    "        self.color = color\n",
    "        \n",
    "gato1 = Animales('Poncho','gato', 'naranja')\n",
    "perro1 = Animales('Molly' ,'perra', 'dorado')\n",
    "hamster1 = Animales('Hamtaro' ,'hamster', 'blanco')\n",
    "loro1 = Animales('Kratos','loro', 'verde con rojo y amarillo')\n",
    "\n",
    "\n",
    "print(f'Me llamo {gato1.nombre} y soy un {gato1.especie} de color {gato1.color}')\n",
    "print(f'Me llamo {perro1.nombre} y soy una {perro1.especie} de color {perro1.color}')\n",
    "print(f'Me llamo {hamster1.nombre} y soy un {hamster1.especie} de color {hamster1.color}')\n",
    "print(f'Me llamo {loro1.nombre} y soy un {loro1.especie} de color {loro1.color}')"
   ]
  },
  {
   "cell_type": "code",
   "execution_count": null,
   "id": "4c1c2d87",
   "metadata": {},
   "outputs": [
    {
     "name": "stdout",
     "output_type": "stream",
     "text": [
      " Cuando hablo digo miau\n",
      "Cuanto ataco araño\n"
     ]
    }
   ],
   "source": [
    "#Nombre de la clase\n",
    "class Gato:\n",
    "    #Definir los atributos de instancia\n",
    "    def __init__(self, sonido, ataque):\n",
    "        self.sonido = sonido\n",
    "        self.ataque = ataque\n",
    "    #Definir los métodos para mis acciones\n",
    "    def maullo (self):\n",
    "        print(f' Cuando hablo digo {self.sonido}')\n",
    "        \n",
    "    def araño(self):\n",
    "        print(f'Cuanto ataco {self.ataque}')\n",
    "#Nombrar lo que van a hacer mis acciones\n",
    "mi_gato = Gato('miau', 'araño')\n",
    "\n",
    "mi_gato.maullo()\n",
    "mi_gato.araño()\n"
   ]
  },
  {
   "cell_type": "code",
   "execution_count": null,
   "id": "2bc37195",
   "metadata": {},
   "outputs": [
    {
     "name": "stdout",
     "output_type": "stream",
     "text": [
      "Hola, soy Yone, y soy espadachín\n",
      "Hola, me llamo Varus, y soy arquero\n"
     ]
    }
   ],
   "source": [
    "# Clase madre\n",
    "class Personajes:\n",
    "    def __init__(self, nombre, clase):\n",
    "        self.nombre = nombre\n",
    "        self.clase = clase\n",
    "\n",
    "# Clase hija Espadachín\n",
    "class Espadachín(Personajes):\n",
    "    def info_personaje(self):\n",
    "        print(f'Hola, soy {self.nombre}, y soy {self.clase}')\n",
    "\n",
    "# Clase hija Arquero\n",
    "class Arquero(Personajes):\n",
    "    def info_personaje(self):\n",
    "        print(f'Hola, me llamo {self.nombre}, y soy {self.clase}')\n",
    "\n",
    "# Crear objetos desde las clases hijas\n",
    "personaje1 = Espadachín(\"Yone\", \"espadachín\")\n",
    "personaje2 = Arquero(\"Varus\", \"arquero\")\n",
    "\n",
    "# Ejecutar los métodos\n",
    "personaje1.info_personaje()\n",
    "personaje2.info_personaje()\n",
    "\n",
    "\n",
    "\n",
    "    \n",
    "    "
   ]
  },
  {
   "cell_type": "code",
   "execution_count": 4,
   "id": "a46c9568",
   "metadata": {},
   "outputs": [
    {
     "name": "stdout",
     "output_type": "stream",
     "text": [
      "{'nombre': 'Guille'}\n",
      "{'nombre': 'Guille', 'apellido': 'Lopez'}\n",
      "{'nombre': 'Guille', 'apellido': 'Lopez', 'edad': '27'}\n",
      "{'nombre': 'Guille', 'apellido': 'Lopez', 'edad': '27', 'telefono': '0984764617'}\n",
      "{'nombre': 'Guille', 'apellido': 'Lopez', 'edad': '27', 'telefono': '0984764617', 'correo electronico': 'gdlg1997@gmail.com'}\n"
     ]
    }
   ],
   "source": [
    "persona = {}\n",
    "\n",
    "nombre = input('Escriba su nombre')\n",
    "persona ['nombre'] = nombre\n",
    "print(persona)\n",
    "\n",
    "apellido = input ('Escriba su apellido')\n",
    "persona ['apellido'] = apellido\n",
    "print(persona)\n",
    "\n",
    "edad = input ('Escriba su edad')\n",
    "persona ['edad'] = edad\n",
    "print(persona)\n",
    "\n",
    "telefono = input ('Escriba su numero de telefono')\n",
    "persona ['telefono'] = telefono\n",
    "print(persona)\n",
    "\n",
    "correo_electronico = input ('Escriba su correo electronico')\n",
    "persona ['correo electronico'] = correo_electronico\n",
    "print(persona)\n",
    "\n",
    "\n"
   ]
  },
  {
   "cell_type": "code",
   "execution_count": 20,
   "id": "c87dbbd3",
   "metadata": {},
   "outputs": [
    {
     "name": "stdout",
     "output_type": "stream",
     "text": [
      "=== Menú Tarjeta Personal ===\n",
      "1. Crear datos nuevos\n",
      "2. Modificar datos\n",
      "3. Eliminar datos\n",
      "Ese dato no existe en la tarjeta\n",
      "{}\n"
     ]
    }
   ],
   "source": [
    "tarjeta = {}\n",
    "\n",
    "print(\"=== Menú Tarjeta Personal ===\")\n",
    "print(\"1. Crear datos nuevos\")\n",
    "print(\"2. Modificar datos\")\n",
    "print(\"3. Eliminar datos\")\n",
    "opcion = input(\"Elige una opción (1/2/3): \")\n",
    "\n",
    "while True:\n",
    "    if opcion == '1':\n",
    "        nombre = input('Escriba su nombre')\n",
    "        edad = input('Escriba su edad')\n",
    "        correo = input('Escriba su correo')\n",
    "\n",
    "        tarjeta ['nombre'] = nombre\n",
    "        tarjeta ['edad'] = edad\n",
    "        tarjeta ['correo'] = correo\n",
    "\n",
    "        print(\"\\nTarjeta actual:\")\n",
    "        print (tarjeta)\n",
    "    \n",
    "    \n",
    "    elif opcion == '2':\n",
    "        clave = input ('Qué datos desea modificar? (nombre/edad/correo):')\n",
    "        if clave in tarjeta:\n",
    "            nuevo_valor = input (f'Ingrese el nuevo valor para {clave}')\n",
    "            tarjeta[clave] = nuevo_valor\n",
    "            print ('Dato modificado con éxito')\n",
    "\n",
    "        else:\n",
    "            print ('Ese dato no existe en la tarjeta')\n",
    "            print(tarjeta)\n",
    "\n",
    "    elif opcion == '3':\n",
    "        clave = input('¿Qué dato deseas eliminar? (nombre/edad/correo): ')\n",
    "        if clave in tarjeta:\n",
    "            del tarjeta[clave]\n",
    "            print('Dato eliminado con éxito.')\n",
    "    else:\n",
    "        print('Ese dato no existe')\n",
    "        print(tarjeta)\n",
    "    break\n",
    "else:\n",
    "    print('Opción no válida')\n"
   ]
  }
 ],
 "metadata": {
  "kernelspec": {
   "display_name": ".venv",
   "language": "python",
   "name": "python3"
  },
  "language_info": {
   "codemirror_mode": {
    "name": "ipython",
    "version": 3
   },
   "file_extension": ".py",
   "mimetype": "text/x-python",
   "name": "python",
   "nbconvert_exporter": "python",
   "pygments_lexer": "ipython3",
   "version": "3.12.3"
  }
 },
 "nbformat": 4,
 "nbformat_minor": 5
}
