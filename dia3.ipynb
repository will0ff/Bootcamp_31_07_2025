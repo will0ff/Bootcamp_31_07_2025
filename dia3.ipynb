{
 "cells": [
  {
   "cell_type": "code",
   "execution_count": 4,
   "id": "cc10072b",
   "metadata": {},
   "outputs": [
    {
     "name": "stdout",
     "output_type": "stream",
     "text": [
      "La palabra es: Balatro\n"
     ]
    }
   ],
   "source": [
    "def palabra():\n",
    "    palabra = 'Balatro'\n",
    "    print(f'La palabra es: {palabra}')\n",
    "\n",
    "palabra()"
   ]
  },
  {
   "cell_type": "code",
   "execution_count": 16,
   "id": "125958fb",
   "metadata": {},
   "outputs": [
    {
     "name": "stdout",
     "output_type": "stream",
     "text": [
      "Efectivamente las letras son iguales\n"
     ]
    }
   ],
   "source": [
    "def letras(letra1, letra2):\n",
    "    if letra1 == letra2:\n",
    "        print('Efectivamente las letras son iguales')\n",
    "    else:\n",
    "        print('No son iguales')\n",
    "\n",
    "letra1 = input ('Escriba la primera letra')\n",
    "letra2 = input ('Escriba la segunda letra')\n",
    "\n",
    "letras(letra1, letra2)"
   ]
  },
  {
   "cell_type": "code",
   "execution_count": 40,
   "id": "0e57e161",
   "metadata": {},
   "outputs": [
    {
     "name": "stdout",
     "output_type": "stream",
     "text": [
      "El resultado es: {False}\n"
     ]
    }
   ],
   "source": [
    "palabra = input('Escriba una palabra')\n",
    "numero = int(input('Escriba un numero'))\n",
    "\n",
    "def verificar_si_coinciden(palabra, numero):\n",
    "    if len(palabra) == numero:\n",
    "        return True\n",
    "    else:\n",
    "        return False\n",
    "\n",
    "resultado = verificar_si_coinciden(palabra, numero)\n",
    "\n",
    "print(f'El resultado es:', {resultado})\n",
    "\n",
    "\n",
    "    "
   ]
  },
  {
   "cell_type": "code",
   "execution_count": 64,
   "id": "ed6f5e48",
   "metadata": {},
   "outputs": [
    {
     "name": "stdout",
     "output_type": "stream",
     "text": [
      "[['h', 'o', 'l', 'a']]\n",
      "[['h', 'o', 'l', 'a'], ['b', 'a', 'l', 'a', 't', 'r', 'o']]\n",
      "[['h', 'o', 'l', 'a'], ['b', 'a', 'l', 'a', 't', 'r', 'o'], ['b', 'a', 'l', 'a', 't', 'r', 'e', 'a', 'n', 'd', 'o']]\n"
     ]
    }
   ],
   "source": [
    "palabras_escritas = []\n",
    "\n",
    "for palabra in range(3):\n",
    "    palabra = input (f'Escriba una palabra {palabra+1}:')\n",
    "    lista_de_caracteres = list(palabra)\n",
    "    palabras_escritas.append(lista_de_caracteres)\n",
    "    print(palabras_escritas)\n",
    "\n",
    "\n",
    "\n",
    "\n",
    "\n",
    "\n",
    "\n",
    "\n"
   ]
  },
  {
   "cell_type": "code",
   "execution_count": 65,
   "id": "2b6637e1",
   "metadata": {},
   "outputs": [
    {
     "name": "stdout",
     "output_type": "stream",
     "text": [
      "[['1', '2', '3']]\n",
      "[['1', '2', '3'], ['4', '5', '6']]\n"
     ]
    }
   ],
   "source": [
    "numeros_convertidos = []\n",
    "\n",
    "for numeros in range (2):\n",
    "    numero = input ('Escriba un numero')\n",
    "    numeros_a_escribir = list(str(numero))\n",
    "    numeros_convertidos.append(numeros_a_escribir)\n",
    "    print(numeros_convertidos)\n"
   ]
  },
  {
   "cell_type": "code",
   "execution_count": null,
   "id": "d05bdb39",
   "metadata": {},
   "outputs": [
    {
     "name": "stdout",
     "output_type": "stream",
     "text": [
      "['h', 'o', 'l', 'i', 's']\n",
      "['h', 'e', 'l', 'l', 'o']\n",
      "['h', 'a', 'l', 'l', 'o']\n"
     ]
    }
   ],
   "source": [
    "lista = [['h', 'o', 'l', 'i', 's'], ['h', 'e', 'l', 'l', 'o'], ['h', 'a', 'l', 'l', 'o']]\n",
    "def grilla(lista):\n",
    "    for fila in lista:\n",
    "        print(fila)\n",
    "\n",
    "grilla(lista)"
   ]
  },
  {
   "cell_type": "code",
   "execution_count": 74,
   "id": "4a4b3eb9",
   "metadata": {},
   "outputs": [
    {
     "name": "stdout",
     "output_type": "stream",
     "text": [
      "['manzana', 'fresa', 'sandía']\n",
      "['plátano', 'piña', 'limón']\n",
      "['uva', 'arándano', 'ciruela']\n"
     ]
    }
   ],
   "source": [
    "frutas = [['manzana', 'fresa', 'sandía'],   # frutas rojas\n",
    "          ['plátano', 'piña', 'limón'],     # frutas amarillas\n",
    "          ['uva', 'arándano', 'ciruela']]   # frutas moradas\n",
    "\n",
    "def lista_de_frutas(frutas):\n",
    "    for fila in frutas:\n",
    "        print(fila)\n",
    "\n",
    "lista_de_frutas(frutas)"
   ]
  },
  {
   "cell_type": "code",
   "execution_count": 85,
   "id": "5939ef52",
   "metadata": {},
   "outputs": [
    {
     "ename": "IndexError",
     "evalue": "string index out of range",
     "output_type": "error",
     "traceback": [
      "\u001b[31m---------------------------------------------------------------------------\u001b[39m",
      "\u001b[31mIndexError\u001b[39m                                Traceback (most recent call last)",
      "\u001b[36mCell\u001b[39m\u001b[36m \u001b[39m\u001b[32mIn[85]\u001b[39m\u001b[32m, line 28\u001b[39m\n\u001b[32m     25\u001b[39m \u001b[38;5;28;01mwhile\u001b[39;00m \u001b[38;5;28;01mTrue\u001b[39;00m:\n\u001b[32m     27\u001b[39m     usuario = \u001b[38;5;28minput\u001b[39m (\u001b[33m'\u001b[39m\u001b[33mIngrese una palabra\u001b[39m\u001b[33m'\u001b[39m)    \n\u001b[32m---> \u001b[39m\u001b[32m28\u001b[39m     \u001b[38;5;28mprint\u001b[39m(\u001b[43mworlde\u001b[49m\u001b[43m \u001b[49m\u001b[43m(\u001b[49m\u001b[43mpalabra_a_adivinar\u001b[49m\u001b[43m,\u001b[49m\u001b[43m \u001b[49m\u001b[43musuario\u001b[49m\u001b[43m)\u001b[49m)\n\u001b[32m     29\u001b[39m     \u001b[38;5;28;01mif\u001b[39;00m usuario == palabra_a_adivinar:\n\u001b[32m     30\u001b[39m         \u001b[38;5;28mprint\u001b[39m(\u001b[33m'\u001b[39m\u001b[33mEs la palabra correcta\u001b[39m\u001b[33m'\u001b[39m)\n",
      "\u001b[36mCell\u001b[39m\u001b[36m \u001b[39m\u001b[32mIn[85]\u001b[39m\u001b[32m, line 7\u001b[39m, in \u001b[36mworlde\u001b[39m\u001b[34m(palabra_a_encontrar, palabra_ingresada)\u001b[39m\n\u001b[32m      4\u001b[39m letras_verficadas = []\n\u001b[32m      6\u001b[39m \u001b[38;5;28;01mfor\u001b[39;00m posicion \u001b[38;5;129;01min\u001b[39;00m \u001b[38;5;28mrange\u001b[39m(cantidad_de_letras):\n\u001b[32m----> \u001b[39m\u001b[32m7\u001b[39m     letras_son_iguales = palabra_a_encontrar[posicion] == \u001b[43mpalabra_ingresada\u001b[49m\u001b[43m[\u001b[49m\u001b[43mposicion\u001b[49m\u001b[43m]\u001b[49m\n\u001b[32m      9\u001b[39m     la_letra_existe_en_la_palabra = palabra_ingresada[posicion] \u001b[38;5;129;01min\u001b[39;00m palabra_a_encontrar\n\u001b[32m     11\u001b[39m     \u001b[38;5;28;01mif\u001b[39;00m letras_son_iguales:\n",
      "\u001b[31mIndexError\u001b[39m: string index out of range"
     ]
    }
   ],
   "source": [
    "def worlde(palabra_a_encontrar, palabra_ingresada):\n",
    "    cantidad_de_letras = 5\n",
    "\n",
    "    letras_verficadas = []\n",
    "\n",
    "    for posicion in range(cantidad_de_letras):\n",
    "        letras_son_iguales = palabra_a_encontrar[posicion] == palabra_ingresada[posicion]\n",
    "\n",
    "        la_letra_existe_en_la_palabra = palabra_ingresada[posicion] in palabra_a_encontrar\n",
    "\n",
    "        if letras_son_iguales:\n",
    "\n",
    "            letras_verficadas.append(\"[\" + palabra_ingresada[posicion] + \"]\")\n",
    "        \n",
    "        elif la_letra_existe_en_la_palabra:\n",
    "            letras_verficadas.append(f\"({palabra_ingresada[posicion]})\")\n",
    "\n",
    "        else:\n",
    "            letras_verficadas.append(palabra_ingresada[posicion])\n",
    "\n",
    "    return letras_verficadas\n",
    "    \n",
    "intentos = 5\n",
    "palabra_a_adivinar = 'coche'\n",
    "while True:\n",
    "    \n",
    "    usuario = input ('Ingrese una palabra')    \n",
    "    print(worlde (palabra_a_adivinar, usuario))\n",
    "    if usuario == palabra_a_adivinar:\n",
    "        print('Es la palabra correcta')\n",
    "        break\n",
    "    else:\n",
    "        print ('La palabra no coincide')\n",
    "    intentos = intentos - 1\n",
    "    print(f'Te quedan {intentos} vidas')\n",
    "    if intentos == 0:\n",
    "        print('Perdiste la partida')\n",
    "        break\n",
    "\n"
   ]
  }
 ],
 "metadata": {
  "kernelspec": {
   "display_name": ".venv",
   "language": "python",
   "name": "python3"
  },
  "language_info": {
   "codemirror_mode": {
    "name": "ipython",
    "version": 3
   },
   "file_extension": ".py",
   "mimetype": "text/x-python",
   "name": "python",
   "nbconvert_exporter": "python",
   "pygments_lexer": "ipython3",
   "version": "3.12.3"
  }
 },
 "nbformat": 4,
 "nbformat_minor": 5
}
