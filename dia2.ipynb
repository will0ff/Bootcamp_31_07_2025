{
 "cells": [
  {
   "cell_type": "code",
   "execution_count": 2,
   "id": "4139b57c",
   "metadata": {},
   "outputs": [
    {
     "name": "stdout",
     "output_type": "stream",
     "text": [
      "La marca es: Toyota\n",
      "El modelo es: Vitz\n",
      "El color es: Negro\n",
      "La chapa es: abc123\n"
     ]
    }
   ],
   "source": [
    "def comprar_auto(marca, modelo, color, chapa):\n",
    "    print(f'La marca es: {marca}')\n",
    "    print(f'El modelo es: {modelo}')\n",
    "    print(f'El color es: {color}')\n",
    "    print(f'La chapa es: {chapa}')\n",
    "\n",
    "marca_cliente = input('Ingrese la marca del vehículo')\n",
    "modelo_cliente = input('Ingrese el modelo del vehículo')\n",
    "color_cliente = input('Ingrese el color del vehículo')\n",
    "chapa_cliente = input('Ingrese la chapa del auto')\n",
    "\n",
    "comprar_auto(marca_cliente, modelo_cliente, color_cliente, chapa_cliente)\n"
   ]
  },
  {
   "cell_type": "code",
   "execution_count": 17,
   "id": "4ed41b27",
   "metadata": {},
   "outputs": [
    {
     "name": "stdout",
     "output_type": "stream",
     "text": [
      "Podes tomar hasta hablar ukraniano kp\n"
     ]
    }
   ],
   "source": [
    "edad_cliente = int(input('Ingresar edad'))\n",
    "if edad_cliente < 18:\n",
    "    print('Toma coca nomás kp')\n",
    "elif edad_cliente >= 18 and edad_cliente < 21:\n",
    "    print('Podes comprar pero no tomar kp')\n",
    "else:\n",
    "    print('Podes tomar hasta hablar ukraniano kp')"
   ]
  },
  {
   "cell_type": "code",
   "execution_count": 21,
   "id": "98b6a702",
   "metadata": {},
   "outputs": [
    {
     "name": "stdout",
     "output_type": "stream",
     "text": [
      "Temperatura ingresada: 32.6 °C\n",
      "No puede hacer tanto caloooor\n"
     ]
    }
   ],
   "source": [
    "\n",
    "temp = float(input(\"Ingresá la temperatura en grados Celsius: \"))\n",
    "\n",
    "print(\"Temperatura ingresada:\", temp, \"°C\")\n",
    "\n",
    "if temp >= -10 and temp <= 18:\n",
    "    print(\"Hoy'saaaa\")\n",
    "elif temp >= 19 and temp <= 30:\n",
    "    print(\"Fresquito\")\n",
    "elif temp >= 31 and temp <= 45:\n",
    "    print(\"No puede hacer tanto caloooor\")\n",
    "else:\n",
    "    print(\"Ñamano mba'e!\")\n",
    "\n"
   ]
  },
  {
   "cell_type": "code",
   "execution_count": 29,
   "id": "03b1eacf",
   "metadata": {},
   "outputs": [
    {
     "name": "stdout",
     "output_type": "stream",
     "text": [
      "Correct password\n"
     ]
    }
   ],
   "source": [
    "correct_password = 'balatro'\n",
    "\n",
    "while True: \n",
    "    password = input('Ingrese su password')\n",
    "    if password == correct_password:\n",
    "        print('Correct password')\n",
    "        break\n",
    "    \n",
    "    else:\n",
    "        print('Incorrect password')\n"
   ]
  },
  {
   "cell_type": "code",
   "execution_count": null,
   "id": "b2cb5783",
   "metadata": {},
   "outputs": [
    {
     "name": "stdout",
     "output_type": "stream",
     "text": [
      " Mi lista de juegos es: ['LoL', 'TFT', 'Balatro', 'L4D2', 'Valorant']\n",
      " Mi lista de juegos es: ['LoL', 'TFT', 'Balatro', 'L4D2', 'Valorant', 'R4']\n",
      " Mi lista de juegos es: ['LoL', 'Dota', 'Balatro', 'L4D2', 'Valorant', 'R4']\n",
      " Mi lista de juegos es: ['LoL', 'Dota', 'L4D2', 'Valorant', 'R4']\n",
      "5\n"
     ]
    }
   ],
   "source": [
    "lista_de_juegos = ['LoL', 'TFT', 'Balatro', 'L4D2', 'Valorant']\n",
    "print(f' Mi lista de juegos es: {lista_de_juegos}')\n",
    "\n",
    "lista_de_juegos.append ('R4')\n",
    "print(f' Mi lista de juegos es: {lista_de_juegos}')\n",
    "\n",
    "lista_de_juegos[1] = 'Dota'\n",
    "print(f' Mi lista de juegos es: {lista_de_juegos}')\n",
    "\n",
    "lista_de_juegos.pop(2)\n",
    "print(f' Mi lista de juegos es: {lista_de_juegos}')"
   ]
  },
  {
   "cell_type": "code",
   "execution_count": 51,
   "id": "5cf40666",
   "metadata": {},
   "outputs": [
    {
     "name": "stdout",
     "output_type": "stream",
     "text": [
      " El resultado es de: 0\n",
      " El resultado es de: 2\n",
      " El resultado es de: 4\n",
      " El resultado es de: 6\n",
      " El resultado es de: 8\n",
      " El resultado es de: 10\n",
      " El resultado es de: 12\n",
      " El resultado es de: 14\n",
      " El resultado es de: 16\n",
      " El resultado es de: 18\n"
     ]
    }
   ],
   "source": [
    "for i in range(10):\n",
    "    multiplicacion = i * 2\n",
    "    print(f' El resultado es de: {multiplicacion}')\n",
    "\n"
   ]
  },
  {
   "cell_type": "code",
   "execution_count": 53,
   "id": "65633f23",
   "metadata": {},
   "outputs": [
    {
     "name": "stdout",
     "output_type": "stream",
     "text": [
      "No se encuentra la marca\n",
      "Samsung\n",
      "Xiaomi\n",
      "Redmagic\n"
     ]
    }
   ],
   "source": [
    "lista_de_marcas = ['Vivo', 'Samsung', 'Xiaomi', 'Redmagic']\n",
    "for marcas in lista_de_marcas:\n",
    "    if len(marcas) >= 6:\n",
    "        print(marcas)\n",
    "    else:\n",
    "        print('No se encuentra la marca')\n",
    "\n"
   ]
  },
  {
   "cell_type": "code",
   "execution_count": null,
   "id": "44395cc7",
   "metadata": {},
   "outputs": [
    {
     "name": "stdout",
     "output_type": "stream",
     "text": [
      "BUENA\n"
     ]
    }
   ],
   "source": [
    "frase = input('Escribe una frase')\n",
    "\n",
    "for letra in frase:\n",
    "    if letra == 'o':\n",
    "        print('BUENA')\n",
    "    \n",
    "              \n"
   ]
  }
 ],
 "metadata": {
  "kernelspec": {
   "display_name": ".venv",
   "language": "python",
   "name": "python3"
  },
  "language_info": {
   "codemirror_mode": {
    "name": "ipython",
    "version": 3
   },
   "file_extension": ".py",
   "mimetype": "text/x-python",
   "name": "python",
   "nbconvert_exporter": "python",
   "pygments_lexer": "ipython3",
   "version": "3.12.3"
  }
 },
 "nbformat": 4,
 "nbformat_minor": 5
}
