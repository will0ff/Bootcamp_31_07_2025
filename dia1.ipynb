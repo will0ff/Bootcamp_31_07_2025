{
 "cells": [
  {
   "cell_type": "code",
   "execution_count": 1,
   "id": "ab371888",
   "metadata": {},
   "outputs": [
    {
     "name": "stdout",
     "output_type": "stream",
     "text": [
      "Hola Mundo\n"
     ]
    }
   ],
   "source": [
    "print('Hola Mundo')"
   ]
  },
  {
   "cell_type": "code",
   "execution_count": 5,
   "id": "85d63a56",
   "metadata": {},
   "outputs": [
    {
     "name": "stdout",
     "output_type": "stream",
     "text": [
      "Guillermo 27 Asuncion\n"
     ]
    }
   ],
   "source": [
    "nombre = 'Guillermo'\n",
    "edad = 27\n",
    "ciudad = 'Asuncion'\n",
    "\n",
    "print(nombre,edad,ciudad)"
   ]
  },
  {
   "cell_type": "code",
   "execution_count": 9,
   "id": "9a3a9816",
   "metadata": {},
   "outputs": [
    {
     "name": "stdout",
     "output_type": "stream",
     "text": [
      "La cantidad de frutas es 60\n"
     ]
    }
   ],
   "source": [
    "cantidad_de_manzanas = 40\n",
    "cantidad_de_naranjas = 20\n",
    "cantidad_de_frutas = cantidad_de_manzanas + cantidad_de_naranjas\n",
    "\n",
    "print('La cantidad de frutas es',cantidad_de_frutas)"
   ]
  },
  {
   "cell_type": "code",
   "execution_count": 11,
   "id": "667b2dd0",
   "metadata": {},
   "outputs": [
    {
     "name": "stdout",
     "output_type": "stream",
     "text": [
      "La cantidad de frutas restante es de 20\n",
      "La cantidad de frutas vendidas es de 40 y la cantidad de frutas restantes es de 20\n"
     ]
    }
   ],
   "source": [
    "frutas_vendidas = 40\n",
    "frutas_restantes = cantidad_de_frutas - frutas_vendidas\n",
    "\n",
    "print('La cantidad de frutas restante es de',frutas_restantes)\n",
    "print('La cantidad de frutas vendidas es de', frutas_vendidas,'y la cantidad de frutas restantes es de', frutas_restantes)"
   ]
  },
  {
   "cell_type": "code",
   "execution_count": 15,
   "id": "0c5c8532",
   "metadata": {},
   "outputs": [
    {
     "name": "stdout",
     "output_type": "stream",
     "text": [
      "Hola, me llamo Eduardo Bozzano, mucho gusto.\n"
     ]
    }
   ],
   "source": [
    "nombre = 'Eduardo'\n",
    "apellido = 'Bozzano'\n",
    "\n",
    "print(f'Hola, me llamo {nombre} {apellido}, mucho gusto.')"
   ]
  },
  {
   "cell_type": "code",
   "execution_count": null,
   "id": "5185f0f9",
   "metadata": {},
   "outputs": [
    {
     "name": "stdout",
     "output_type": "stream",
     "text": [
      "la suma de ambos numero es: 84\n"
     ]
    }
   ],
   "source": [
    "primer_numero = int(input('Ingrese un numero'))\n",
    "segundo_numero = int(input('Ingrese otro numero'))\n",
    "\n",
    "suma = primer_numero + segundo_numero\n",
    "\n",
    "print(f'la suma de ambos numero es: {suma}')"
   ]
  },
  {
   "cell_type": "code",
   "execution_count": 37,
   "id": "5191ff62",
   "metadata": {},
   "outputs": [
    {
     "name": "stdout",
     "output_type": "stream",
     "text": [
      "¡te haz hecho un rico café!\n",
      "¡te haz hecho un rico café!\n",
      "¡te haz hecho un rico café!\n"
     ]
    }
   ],
   "source": [
    "def hacer_cafe():\n",
    "    paso1 = input('agregar paso 1')\n",
    "    paso2 = input('agregar paso 2')\n",
    "    paso3 = input('agregar paso 3')\n",
    "    paso4 = input('agregar paso 4')\n",
    "\n",
    "    print('¡te haz hecho un rico café!')\n",
    "\n",
    "\n",
    "hacer_cafe()\n",
    "\n",
    "hacer_cafe()\n",
    "\n",
    "hacer_cafe()\n",
    "\n"
   ]
  },
  {
   "cell_type": "code",
   "execution_count": 42,
   "id": "59b0da27",
   "metadata": {},
   "outputs": [],
   "source": [
    "def horas_jugadas():\n",
    "    lunes = int(input('agregar horas jugadas del día'))\n",
    "    martes = int(input('agregar horas jugadas del día'))\n",
    "    miercoles = int(input('agregar horas jugadas del día'))\n",
    "    jueves = int(input('agregar horas jugadas del día'))\n",
    "    viernes = int(input('agregar horas jugadas del día'))\n",
    "\n",
    "    cantidad_horas = lunes + martes + miercoles + jueves + viernes\n",
    "\n",
    "    print(f'La cantidad de horas jugadas en la semana es de: {cantidad_horas}')"
   ]
  },
  {
   "cell_type": "code",
   "execution_count": 44,
   "id": "11a1b27f",
   "metadata": {},
   "outputs": [
    {
     "name": "stdout",
     "output_type": "stream",
     "text": [
      "La cantidad de horas jugadas en la semana es de: 32\n",
      "La cantidad de horas jugadas en la semana es de: 159\n",
      "La cantidad de horas jugadas en la semana es de: 186\n"
     ]
    }
   ],
   "source": [
    "horas_jugadas()\n",
    "\n",
    "horas_jugadas()\n",
    "\n",
    "horas_jugadas()"
   ]
  },
  {
   "cell_type": "code",
   "execution_count": 56,
   "id": "f8d7161f",
   "metadata": {},
   "outputs": [
    {
     "name": "stdout",
     "output_type": "stream",
     "text": [
      "el tamaño es 500cc, la marca es heineken, la cantidad es 8\n"
     ]
    }
   ],
   "source": [
    "def comprar_cerveza(tamaño_usuario, marca_usuario, cantidad_usuario):\n",
    "    print(f'el tamaño es {tamaño_usuario}, la marca es {marca_usuario}, la cantidad es {cantidad_usuario}')\n",
    "\n",
    "tamaño = input('ingrese tamaño') \n",
    "marca = input('ingrese marca')  \n",
    "cantidad = input('ingrese cantidad')\n",
    "\n",
    "comprar_cerveza(tamaño, marca, cantidad)\n",
    "\n",
    "\n",
    "\n",
    "\n"
   ]
  }
 ],
 "metadata": {
  "kernelspec": {
   "display_name": ".venv",
   "language": "python",
   "name": "python3"
  },
  "language_info": {
   "codemirror_mode": {
    "name": "ipython",
    "version": 3
   },
   "file_extension": ".py",
   "mimetype": "text/x-python",
   "name": "python",
   "nbconvert_exporter": "python",
   "pygments_lexer": "ipython3",
   "version": "3.12.3"
  }
 },
 "nbformat": 4,
 "nbformat_minor": 5
}
